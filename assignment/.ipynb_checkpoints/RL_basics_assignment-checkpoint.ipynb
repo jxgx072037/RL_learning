{
 "cells": [
  {
   "cell_type": "markdown",
   "id": "1a8ed7fc",
   "metadata": {},
   "source": [
    "# 强化学习基础知识练习\n",
    "\n",
    "本练习将帮助您理解和实践强化学习的基础概念。我们将从简单的马尔科夫链开始，逐步深入到MRP和MDP。\n",
    "\n",
    "## 准备工作"
   ]
  },
  {
   "cell_type": "code",
   "execution_count": null,
   "id": "9c25ebf1",
   "metadata": {},
   "outputs": [],
   "source": [
    "import numpy as np\n",
    "import matplotlib.pyplot as plt\n",
    "\n",
    "# 设置随机种子以确保结果可重现\n",
    "np.random.seed(42)"
   ]
  },
  {
   "cell_type": "markdown",
   "id": "752194c3",
   "metadata": {},
   "source": [
    "## 练习1：马尔科夫链\n",
    "\n",
    "### 任务1.1：实现状态转移\n",
    "创建一个简单的天气系统，包含三个状态：晴天(0)、多云(1)、雨天(2)\n",
    "\n",
    "1. 创建状态转移矩阵\n",
    "2. 实现一个函数，模拟状态转移过程\n",
    "3. 记录并显示状态转移序列"
   ]
  },
  {
   "cell_type": "code",
   "execution_count": null,
   "id": "507e62c4",
   "metadata": {},
   "outputs": [],
   "source": [
    "# 定义状态转移矩阵\n",
    "P = np.array([\n",
    "    [0.7, 0.2, 0.1],  # 晴天的转移概率\n",
    "    [0.3, 0.4, 0.3],  # 多云的转移概率\n",
    "    [0.2, 0.3, 0.5]   # 雨天的转移概率\n",
    "])\n",
    "\n",
    "def simulate_markov_chain(P, start_state, n_steps):\n",
    "    \"\"\"模拟马尔科夫链状态转移\n",
    "    \n",
    "    参数：\n",
    "        P: 状态转移矩阵\n",
    "        start_state: 初始状态\n",
    "        n_steps: 模拟步数\n",
    "        \n",
    "    返回：\n",
    "        状态序列\n",
    "    \"\"\"\n",
    "    # 在这里实现函数\n",
    "    pass\n",
    "\n",
    "# 测试代码\n",
    "# states = simulate_markov_chain(P, start_state=0, n_steps=10)\n",
    "# print(\"状态序列:\", states)"
   ]
  }
 ],
 "metadata": {},
 "nbformat": 4,
 "nbformat_minor": 5
}
